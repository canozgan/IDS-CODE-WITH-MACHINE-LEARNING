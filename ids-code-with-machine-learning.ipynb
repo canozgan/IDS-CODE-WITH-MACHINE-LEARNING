{
  "nbformat": 4,
  "nbformat_minor": 0,
  "metadata": {
    "colab": {
      "provenance": []
    },
    "kernelspec": {
      "name": "python3",
      "display_name": "Python 3"
    },
    "language_info": {
      "name": "python"
    }
  },
  "cells": [
    {
      "cell_type": "code",
      "execution_count": 1,
      "metadata": {
        "id": "BXXJquP9ZHyf"
      },
      "outputs": [],
      "source": [
        "#The data in the file is stored in memory with df\n",
        "import pandas as pd\n",
        "import numpy as np\n",
        "df = pd.read_csv('web_attacks_data.csv')"
      ]
    },
    {
      "cell_type": "code",
      "source": [
        "#The Label column is encoded as follows: \"BENIGN\" = 0, attack = 1.\n",
        "df['Label'] = df['Label'].apply(lambda x: 0 if x == 'BENIGN' else 1)\n",
        "#How much of all data is an attack, how much is not an attack is written to the screen\n",
        "unique, counts = np.unique(df['Label'], return_counts=True)\n",
        "dict(zip(unique, counts))"
      ],
      "metadata": {
        "id": "E4D8rt2Ycpba",
        "outputId": "0dd28323-4dfc-44ea-8f2c-29d13b991b1a",
        "colab": {
          "base_uri": "https://localhost:8080/"
        }
      },
      "execution_count": 2,
      "outputs": [
        {
          "output_type": "execute_result",
          "data": {
            "text/plain": [
              "{0: 5087, 1: 2180}"
            ]
          },
          "metadata": {},
          "execution_count": 2
        }
      ]
    },
    {
      "cell_type": "code",
      "source": [
        "#Columns that will have a negative impact on the machine learning model have been removed\n",
        "excluded = ['Flow ID', 'Source IP', 'Source Port', 'Destination IP', 'Destination Port', 'Protocol', 'Timestamp', 'Init_Win_bytes_backward', 'Init_Win_bytes_forward']\n",
        "df = df.drop(columns=excluded, errors='ignore')"
      ],
      "metadata": {
        "id": "w766rYUvNYnj"
      },
      "execution_count": 3,
      "outputs": []
    },
    {
      "cell_type": "code",
      "source": [
        "#The label column is that is being tried to find, and the others are the columns that help to find the label column.\n",
        "y = df['Label'].values\n",
        "X = df.drop(columns=['Label'])\n",
        "print(X.shape, y.shape)"
      ],
      "metadata": {
        "colab": {
          "base_uri": "https://localhost:8080/"
        },
        "id": "smfrMPM3h923",
        "outputId": "6651222e-10de-4655-c199-ddf545564837"
      },
      "execution_count": 4,
      "outputs": [
        {
          "output_type": "stream",
          "name": "stdout",
          "text": [
            "(7267, 74) (7267,)\n"
          ]
        }
      ]
    },
    {
      "cell_type": "code",
      "source": [
        "#The data was divided into two as training and test sets\n",
        "from sklearn.model_selection import train_test_split\n",
        "X_train, X_test, y_train, y_test = train_test_split(X, y, test_size=0.3, random_state=42)\n",
        "#How much of training data is an attack, how much is not an attack is written to the screen\n",
        "unique, counts = np.unique(y_train, return_counts=True)\n",
        "dict(zip(unique, counts))"
      ],
      "metadata": {
        "colab": {
          "base_uri": "https://localhost:8080/"
        },
        "id": "dCnmSgxKhncW",
        "outputId": "2cb518d6-a562-4464-ff39-07ba1ceb89f7"
      },
      "execution_count": 5,
      "outputs": [
        {
          "output_type": "execute_result",
          "data": {
            "text/plain": [
              "{0: 3563, 1: 1523}"
            ]
          },
          "metadata": {},
          "execution_count": 5
        }
      ]
    },
    {
      "cell_type": "code",
      "source": [
        "#Used the decision tree machine learning algorithm\n",
        "from sklearn.model_selection import cross_val_score\n",
        "from sklearn.tree import DecisionTreeClassifier\n",
        "decision_tree = DecisionTreeClassifier(max_leaf_nodes=5, random_state=0)\n",
        "decision_tree = decision_tree.fit(X_train, y_train)\n",
        "cross_val_score(decision_tree, X_train, y_train, cv=10)"
      ],
      "metadata": {
        "id": "8AL_L9uHhuDp",
        "colab": {
          "base_uri": "https://localhost:8080/"
        },
        "outputId": "4fbb13e0-dbfb-4c6f-f58d-ce7552f35efe"
      },
      "execution_count": 6,
      "outputs": [
        {
          "output_type": "execute_result",
          "data": {
            "text/plain": [
              "array([0.94695481, 0.95284872, 0.94891945, 0.96660118, 0.94302554,\n",
              "       0.96856582, 0.96062992, 0.94291339, 0.94291339, 0.96456693])"
            ]
          },
          "metadata": {},
          "execution_count": 6
        }
      ]
    },
    {
      "cell_type": "code",
      "source": [
        "#The resulting decision tree model is visualized\n",
        "from sklearn.tree import export_text\n",
        "r = export_text(decision_tree, feature_names=X_train.columns.to_list())\n",
        "print(r)"
      ],
      "metadata": {
        "id": "lJTHuA5Oh34H",
        "colab": {
          "base_uri": "https://localhost:8080/"
        },
        "outputId": "23054919-0bc2-407d-8a9e-f8544765bc8e"
      },
      "execution_count": 7,
      "outputs": [
        {
          "output_type": "stream",
          "name": "stdout",
          "text": [
            "|--- Max Packet Length <= 3.00\n",
            "|   |--- Fwd IAT Std <= 2477650.38\n",
            "|   |   |--- Bwd Packets/s <= 8889.06\n",
            "|   |   |   |--- class: 0\n",
            "|   |   |--- Bwd Packets/s >  8889.06\n",
            "|   |   |   |--- class: 0\n",
            "|   |--- Fwd IAT Std >  2477650.38\n",
            "|   |   |--- class: 1\n",
            "|--- Max Packet Length >  3.00\n",
            "|   |--- Total Length of Fwd Packets <= 34839.50\n",
            "|   |   |--- class: 0\n",
            "|   |--- Total Length of Fwd Packets >  34839.50\n",
            "|   |   |--- class: 1\n",
            "\n"
          ]
        }
      ]
    },
    {
      "cell_type": "code",
      "source": [
        "#Evaluating the performance of the trained decision tree model\n",
        "from sklearn.metrics import confusion_matrix\n",
        "y_pred = decision_tree.predict(X_test)\n",
        "confusion_matrix(y_test, y_pred)"
      ],
      "metadata": {
        "colab": {
          "base_uri": "https://localhost:8080/"
        },
        "id": "b7KlrRhf4bzk",
        "outputId": "1bb8c0a9-c452-4c4e-b032-ca77b44dfa90"
      },
      "execution_count": 8,
      "outputs": [
        {
          "output_type": "execute_result",
          "data": {
            "text/plain": [
              "array([[1513,   11],\n",
              "       [  93,  564]])"
            ]
          },
          "metadata": {},
          "execution_count": 8
        }
      ]
    },
    {
      "cell_type": "code",
      "source": [
        "#Printed on the screen what percentage of attacks were correctly detected in the trained decision tree model\n",
        "from sklearn import metrics\n",
        "specificity = metrics.recall_score(y_test, y_pred, pos_label=1)\n",
        "print(\"%\",specificity*100)"
      ],
      "metadata": {
        "colab": {
          "base_uri": "https://localhost:8080/"
        },
        "id": "sWhjVl5YBfAl",
        "outputId": "d5a36bf4-fc1c-4bd4-c02f-dc73173c7d1d"
      },
      "execution_count": 9,
      "outputs": [
        {
          "output_type": "stream",
          "name": "stdout",
          "text": [
            "% 85.84474885844749\n"
          ]
        }
      ]
    }
  ]
}